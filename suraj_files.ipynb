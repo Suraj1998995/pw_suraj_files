{
  "nbformat": 4,
  "nbformat_minor": 0,
  "metadata": {
    "colab": {
      "provenance": []
    },
    "kernelspec": {
      "name": "python3",
      "display_name": "Python 3"
    },
    "language_info": {
      "name": "python"
    }
  },
  "cells": [
    {
      "cell_type": "code",
      "execution_count": null,
      "metadata": {
        "id": "yR-CTrSZyIrI"
      },
      "outputs": [],
      "source": [
        "#"
      ]
    },
    {
      "cell_type": "markdown",
      "source": [
        "Theoritical Question"
      ],
      "metadata": {
        "id": "lsfjt9kPyWRp"
      }
    },
    {
      "cell_type": "markdown",
      "source": [
        "Q1.  What is the difference between interpreted and compiled languages?\n",
        "Ans:\n",
        "The primary difference between interpreted and compiled languages lies in how they are executed. Compiled languages are translated entirely into machine code by a compiler before the program runs.\n",
        "\n",
        "On the other hand, interpreted languages are executed line-by-line by an interpreter at runtime. This allows for easier debugging and greater flexibility but can lead to slower execution since each instruction is processed during execution.\n",
        "\n",
        "\n",
        "-----\n",
        "Q2. What is exception handling in Python?\n",
        "Ans:\n",
        "Exception handling in Python is a mechanism used to gracefully manage errors that occur during the execution of a program. Instead of stopping the program when an error (or exception) happens, Python allows you to catch and handle the exception using specific syntax, which helps prevent crashes and improves user experience.\n",
        "\n",
        "\n",
        "-----\n",
        "Q3. What is the purpose of the finally block in exception handling?\n",
        "Ans:\n",
        "The finally block in Python’s exception handling is used to define a section of code that will always execute, regardless of whether an exception occurred or not.\n",
        "\n",
        "\n",
        "-----\n",
        "Q4. What is logging in Python?\n",
        "Ans:\n",
        "Logging in Python is the process of recording messages that describe the execution of a program. It’s a powerful tool used to track events, errors, and system behavior during development, testing, and production. Python provides a built-in logging module to support flexible and configurable logging.\n",
        "\n",
        "\n",
        "\n",
        "Q5. What is the significance of the __del__ method in Python?\n",
        "Ans:\n",
        "The __del__ method in Python is known as a destructor. It is called automatically when an object is about to be destroyed, typically when there are no more references to it. It's used to perform clean-up tasks, such as releasing resources or closing files and connections.\n",
        "\n",
        "\n",
        "-----\n",
        "Q6 What is the difference between import and from ... import in Python?\n",
        "Ans:\n",
        "The difference between import and from ... import in Python lies in how you access functions, classes, or variables from a module.\n",
        "\n",
        "\n",
        "-----\n",
        "Q7. How can you handle multiple exceptions in Python?\n",
        "Ans:\n",
        "A. You can catch different types of exceptions separately\n",
        "B. If you want to handle different exceptions with the same response, you can group them.\n",
        "C. To handle any kind of exception, you can use a general Exception.\n",
        "\n",
        "\n",
        "-----\n",
        "Q8. What is the purpose of the with statement when handling files in Python?\n",
        "Ans:\n",
        "The with statement in Python is used to simplify file handling and ensure that resources like files are properly closed, even if an error occurs during file operations.\n",
        "\n",
        "\n",
        "-----\n",
        "Q9. What is the difference between multithreading and multiprocessing?\n",
        "Ans:\n",
        "Multithreading = Many threads, same brain (memory). Great for tasks where your app is waiting (e.g., downloading files).\n",
        "\n",
        "Multiprocessing = Many brains (processes), each working separately. Best for tasks that need heavy computation (e.g., image processing, data crunching).\n",
        "\n",
        "\n",
        "\n",
        "-----\n",
        "Q10. What are the advantages of using logging in a program?\n",
        "Ans:\n",
        "Debugging Made Easier\n",
        "Persistent Record\n",
        "Better Monitoring and Maintenance\n",
        "\n",
        "\n",
        "-----\n",
        "Q11. What is memory management in Python?\n",
        "Ans:\n",
        "Memory management in Python refers to the process by which Python allocates, manages, and frees memory for objects during program execution. Python handles memory automatically, which means developers generally don’t need to manually allocate or release memory.\n",
        "\n",
        "\n",
        "-----\n",
        "Q12. What are the basic steps involved in exception handling in Python?\n",
        "Ans:\n",
        "Try Block:\n",
        "Write the code that might raise an exception inside the try block. This is where you place the risky code that you want to monitor.\n",
        "\n",
        "Except Block:\n",
        "Define one or more except blocks to catch and handle specific exceptions. When an exception occurs in the try block, the corresponding except block executes.\n",
        "\n",
        "Else Block (Optional):\n",
        "The else block runs if no exceptions are raised in the try block. It is used for code that should run only when everything in try succeeds.\n",
        "\n",
        "Finally Block (Optional):\n",
        "The finally block contains code that always runs, regardless of whether an exception occurred or not. It’s typically used for cleanup actions like closing files or releasing resources.\n",
        "\n",
        "\n",
        "\n",
        "-----\n",
        "Q13. Why is memory management important in Python?\n",
        "Ans:\n",
        "Memory management is important in Python because it ensures efficient use of system resources, prevents memory leaks, and maintains application performance.\n",
        "\n",
        "\n",
        "\n",
        "-----\n",
        "Q14. What is the role of try and except in exception handling?\n",
        "Ans:\n",
        "In Python exception handling, the try block contains the code that might raise an exception, allowing you to test risky operations safely. If an error occurs inside the try block, the normal flow of the program is interrupted, and Python looks for a matching except block to handle that specific exception.\n",
        "\n",
        "\n",
        "\n",
        "-----\n",
        "Q15. How does Python's garbage collection system work?\n",
        "Ans:\n",
        "Python's garbage collection system works primarily through reference counting combined with a cyclic garbage collector to handle reference cycles.\n",
        "\n",
        "\n",
        "\n",
        "-----\n",
        "Q16. What is the purpose of the else block in exception handling?\n",
        "Ans:\n",
        "The else block in Python exception handling is used to execute code only if no exceptions occur in the preceding try block. It allows you to separate the code that should run when everything goes smoothly from the error-handling code. This helps keep the program logic clean by clearly distinguishing between normal execution and exception handling.\n",
        "\n",
        "\n",
        "\n",
        "-----\n",
        "Q17. What are the common logging levels in Python?\n",
        "Ans:\n",
        "The common logging levels in Python, defined in the logging module, are:\n",
        "\n",
        "DEBUG — Detailed information, typically of interest only when diagnosing problems.\n",
        "\n",
        "INFO — Confirmation that things are working as expected.\n",
        "\n",
        "WARNING — An indication that something unexpected happened, or indicative of some problem in the near future (e.g., ‘disk space low’). The software is still working as expected.\n",
        "\n",
        "ERROR — Due to a more serious problem, the software has not been able to perform some function.\n",
        "\n",
        "CRITICAL — A very serious error, indicating that the program itself may be unable to continue running.\n",
        "\n",
        "\n",
        "\n",
        "-----\n",
        "Q18. What is the difference between os.fork() and multiprocessing in Python?\n",
        "Ans:\n",
        "os.fork():\n",
        "Low-level system call to duplicate current process\n",
        "Unix/Linux only, not available on Windows\n",
        "Requires manual process and IPC management\n",
        "No built-in support for data sharing or process pools\n",
        "\n",
        "multiprocessing module:\n",
        "High-level Python API for creating/managing processes\n",
        "Cross-platform (works on Unix/Linux and Windows)\n",
        "Provides easy-to-use classes for processes, communication, synchronization\n",
        "Supports process pools, shared memory, and easier parallelism management\n",
        "\n",
        "\n",
        "-----\n",
        "Q19. What is the importance of closing a file in Python?\n",
        "Ans:\n",
        "Closing a file in Python is important because:\n",
        "\n",
        "It releases system resources (like file handles) associated with the file, preventing resource leaks.\n",
        "\n",
        "Ensures that all buffered data is properly written to the file, preventing data loss or corruption.\n",
        "\n",
        "Allows other programs or processes to access the file, as open files may be locked or inaccessible.\n",
        "\n",
        "Helps maintain data integrity and consistency by properly finalizing file operations.\n",
        "\n",
        "\n",
        "\n",
        "-----\n",
        "Q20. What is the difference between file.read() and file.readline() in Python?\n",
        "Ans:\n",
        "The difference between file.read() and file.readline() in Python is:\n",
        "\n",
        "file.read():\n",
        "Reads the entire content of the file (or a specified number of bytes) as a single string. It returns everything at once.\n",
        "\n",
        "file.readline():\n",
        "Reads one line at a time from the file, returning a single line including the newline character (\\n). It can be called repeatedly to read successive lines.\n",
        "\n",
        "\n",
        "\n",
        "-----\n",
        "Q21. What is the logging module in Python used for?\n",
        "Ans:\n",
        "The logging module in Python is used for tracking events that happen when software runs. It provides a flexible framework for emitting log messages from Python programs, allowing developers to record debug information, errors, warnings, or informational messages.\n",
        "\n",
        "-----\n",
        "Q22. What is the os module in Python used for in file handling?\n",
        "Ans:\n",
        "The os module in Python is used in file handling to perform operating system-related tasks, such as:\n",
        "\n",
        "Creating, deleting, and renaming files and directories\n",
        "Navigating the file system (changing directories, listing directory contents)\n",
        "Retrieving file properties (size, permissions, timestamps)\n",
        "Managing file paths in a platform-independent way\n",
        "Checking file or directory existence\n",
        "\n",
        "\n",
        "\n",
        "-----\n",
        "Q23. What are the challenges associated with memory management in Python?\n",
        "Ans:\n",
        "Reference Cycles: Objects that reference each other can create cycles that the reference counting system alone cannot detect, requiring the garbage collector to identify and clean them up.\n",
        "\n",
        "Garbage Collection Overhead: The garbage collector adds runtime overhead, which can affect performance, especially in programs creating many temporary objects.\n",
        "\n",
        "Memory Fragmentation: Frequent allocation and deallocation can lead to fragmented memory, reducing efficiency and increasing memory usage.\n",
        "\n",
        "Large Object Handling: Managing large data structures (e.g., big lists or dictionaries) can consume significant memory and slow down allocation/deallocation.\n",
        "\n",
        "Unpredictable Timing of Cleanup: The exact time when Python frees unused memory is not deterministic, which can lead to delays in resource release.\n",
        "\n",
        "Global Interpreter Lock (GIL): Limits parallel execution of Python bytecode, indirectly affecting memory management in multi-threaded applications.\n",
        "\n",
        "\n",
        "\n",
        "-----\n",
        "Q24. How do you raise an exception manually in Python?\n",
        "Ans:\n",
        "In Python, you can raise an exception manually using the raise statement followed by an exception instance or exception class.\n",
        "\n",
        "-----\n",
        "Q25. Why is it important to use multithreading in certain applications?\n",
        "Ans:\n",
        "Using multithreading is important in certain applications because it allows a program to perform multiple tasks concurrently, improving efficiency and responsiveness.\n",
        "\n"
      ],
      "metadata": {
        "id": "NdFO3v-2yawk"
      }
    },
    {
      "cell_type": "code",
      "source": [],
      "metadata": {
        "id": "9aLfZuJDyY_U"
      },
      "execution_count": null,
      "outputs": []
    },
    {
      "cell_type": "markdown",
      "source": [
        "Practical Questions"
      ],
      "metadata": {
        "id": "-2OheQGe5ObK"
      }
    },
    {
      "cell_type": "markdown",
      "source": [
        "Q1. How can you open a file for writing in Python and write a string to it?"
      ],
      "metadata": {
        "id": "BCyVtoSx5Upw"
      }
    },
    {
      "cell_type": "code",
      "source": [
        "with open(\"filename.txt\", \"w\") as file:\n",
        "    file.write(\"Hello, this is a sample string!\")"
      ],
      "metadata": {
        "id": "9eEnixvE5bXH"
      },
      "execution_count": 2,
      "outputs": []
    },
    {
      "cell_type": "markdown",
      "source": [
        "Q2. Write a Python program to read the contents of a file and print each line."
      ],
      "metadata": {
        "id": "7uEmI-G85nYI"
      }
    },
    {
      "cell_type": "code",
      "source": [
        "filename = 'example.txt'\n",
        "\n",
        "with open(filename, 'r') as file:\n",
        "    for line in file:\n",
        "        print(line, end='')  # end='' avoids adding extra newlines\n"
      ],
      "metadata": {
        "id": "Pq8v7ZWH55Nh"
      },
      "execution_count": null,
      "outputs": []
    },
    {
      "cell_type": "markdown",
      "source": [
        "Q3. How would you handle a case where the file doesn't exist while trying to open it for reading?"
      ],
      "metadata": {
        "id": "eKSsBbiX5_BJ"
      }
    },
    {
      "cell_type": "code",
      "source": [
        "try:\n",
        "    with open('filename.txt', 'r') as file:\n",
        "        content = file.read()\n",
        "        print(content)\n",
        "except FileNotFoundError:\n",
        "    print(\"The file does not exist.\")\n"
      ],
      "metadata": {
        "colab": {
          "base_uri": "https://localhost:8080/"
        },
        "id": "lw855Fw46Hky",
        "outputId": "afe75a01-2110-4f3a-8f9b-ae35ed78057a"
      },
      "execution_count": 4,
      "outputs": [
        {
          "output_type": "stream",
          "name": "stdout",
          "text": [
            "Hello, this is a sample string!\n"
          ]
        }
      ]
    },
    {
      "cell_type": "markdown",
      "source": [
        "Q4. Write a Python script that reads from one file and writes its content to another file?"
      ],
      "metadata": {
        "id": "kAu_Nbz86TRg"
      }
    },
    {
      "cell_type": "code",
      "source": [
        "source_file = 'source.txt'\n",
        "destination_file = 'destination.txt'\n",
        "\n",
        "try:\n",
        "    with open(source_file, 'r') as src:\n",
        "        content = src.read()\n",
        "\n",
        "    with open(destination_file, 'w') as dest:\n",
        "        dest.write(content)\n",
        "\n",
        "    print(f\"Content copied from {source_file} to {destination_file} successfully.\")\n",
        "\n",
        "except FileNotFoundError:\n",
        "    print(f\"Error: The file {source_file} does not exist.\")\n",
        "except IOError as e:\n",
        "    print(f\"An I/O error occurred: {e}\")\n"
      ],
      "metadata": {
        "colab": {
          "base_uri": "https://localhost:8080/"
        },
        "id": "9IjjYppq6iKo",
        "outputId": "44f6276c-9a8f-487d-c2c2-b1ed16384652"
      },
      "execution_count": 5,
      "outputs": [
        {
          "output_type": "stream",
          "name": "stdout",
          "text": [
            "Error: The file source.txt does not exist.\n"
          ]
        }
      ]
    },
    {
      "cell_type": "markdown",
      "source": [
        "Q5. How would you catch and handle division by zero error in Python?"
      ],
      "metadata": {
        "id": "1axDZwcm6m0B"
      }
    },
    {
      "cell_type": "code",
      "source": [
        "try:\n",
        "    numerator = 10\n",
        "    denominator = 0\n",
        "    result = numerator / denominator\n",
        "except ZeroDivisionError:\n",
        "    print(\"Error: Cannot divide by zero.\")\n",
        "else:\n",
        "    print(f\"Result is {result}\")\n"
      ],
      "metadata": {
        "colab": {
          "base_uri": "https://localhost:8080/"
        },
        "id": "8PqEslX86uOP",
        "outputId": "d2eefb76-45e2-4ede-eecd-de77d6b821e5"
      },
      "execution_count": 6,
      "outputs": [
        {
          "output_type": "stream",
          "name": "stdout",
          "text": [
            "Error: Cannot divide by zero.\n"
          ]
        }
      ]
    },
    {
      "cell_type": "markdown",
      "source": [
        "Q6. Write a Python program that logs an error message to a log file when a division by zero exception occurs?"
      ],
      "metadata": {
        "id": "FQ9WcJOQ60c-"
      }
    },
    {
      "cell_type": "code",
      "source": [
        "import logging\n",
        "\n",
        "# Configure logging to write to a file with level ERROR\n",
        "logging.basicConfig(filename='error.log',\n",
        "                    level=logging.ERROR,\n",
        "                    format='%(asctime)s - %(levelname)s - %(message)s')\n",
        "\n",
        "def divide(a, b):\n",
        "    try:\n",
        "        return a / b\n",
        "    except ZeroDivisionError as e:\n",
        "        logging.error(\"Division by zero error: %s\", e)\n",
        "        print(\"Cannot divide by zero. Check error.log for details.\")\n",
        "\n",
        "# Example usage\n",
        "divide(10, 0)\n"
      ],
      "metadata": {
        "colab": {
          "base_uri": "https://localhost:8080/"
        },
        "id": "mSoC_ZJu684h",
        "outputId": "2000b5c0-d7d2-4768-b1d5-57353e857667"
      },
      "execution_count": 7,
      "outputs": [
        {
          "output_type": "stream",
          "name": "stderr",
          "text": [
            "ERROR:root:Division by zero error: division by zero\n"
          ]
        },
        {
          "output_type": "stream",
          "name": "stdout",
          "text": [
            "Cannot divide by zero. Check error.log for details.\n"
          ]
        }
      ]
    },
    {
      "cell_type": "markdown",
      "source": [
        "Q7. How do you log information at different levels (INFO, ERROR, WARNING) in Python using the logging module?"
      ],
      "metadata": {
        "id": "IVCZDBFc7AXs"
      }
    },
    {
      "cell_type": "code",
      "source": [
        "import logging\n",
        "\n",
        "# Configure logging\n",
        "logging.basicConfig(level=logging.DEBUG,  # Capture all levels DEBUG and above\n",
        "                    format='%(asctime)s - %(levelname)s - %(message)s',\n",
        "                    filename='app.log',\n",
        "                    filemode='w')  # 'w' to overwrite log file each run\n",
        "\n",
        "# Logging at different levels\n",
        "logging.info(\"This is an info message.\")\n",
        "logging.warning(\"This is a warning message.\")\n",
        "logging.error(\"This is an error message.\")\n"
      ],
      "metadata": {
        "colab": {
          "base_uri": "https://localhost:8080/"
        },
        "id": "0iZM0MRc7NxP",
        "outputId": "3a2ac440-28ee-4364-9c02-3b6b769ab009"
      },
      "execution_count": 8,
      "outputs": [
        {
          "output_type": "stream",
          "name": "stderr",
          "text": [
            "WARNING:root:This is a warning message.\n",
            "ERROR:root:This is an error message.\n"
          ]
        }
      ]
    },
    {
      "cell_type": "markdown",
      "source": [
        "Q8. Write a program to handle a file opening error using exception handling?"
      ],
      "metadata": {
        "id": "JCdchA5p7RI4"
      }
    },
    {
      "cell_type": "code",
      "source": [
        "filename = 'example.txt'\n",
        "\n",
        "try:\n",
        "    with open(filename, 'r') as file:\n",
        "        content = file.read()\n",
        "        print(content)\n",
        "except FileNotFoundError:\n",
        "    print(f\"Error: The file '{filename}' was not found.\")\n",
        "except IOError:\n",
        "    print(f\"Error: An I/O error occurred while trying to read '{filename}'.\")\n"
      ],
      "metadata": {
        "colab": {
          "base_uri": "https://localhost:8080/"
        },
        "id": "Xw380sNl7YAd",
        "outputId": "838f2281-5e8e-41dd-b8d3-e66dd88b5f68"
      },
      "execution_count": 9,
      "outputs": [
        {
          "output_type": "stream",
          "name": "stdout",
          "text": [
            "Error: The file 'example.txt' was not found.\n"
          ]
        }
      ]
    },
    {
      "cell_type": "markdown",
      "source": [
        "Q9. How can you read a file line by line and store its content in a list in Python?"
      ],
      "metadata": {
        "id": "T65XQHyE7coT"
      }
    },
    {
      "cell_type": "code",
      "source": [
        "filename = 'example.txt'\n",
        "lines = []\n",
        "\n",
        "with open(filename, 'r') as file:\n",
        "    for line in file:\n",
        "        lines.append(line.rstrip('\\n'))  # Remove trailing newline characters\n",
        "\n",
        "print(lines)\n"
      ],
      "metadata": {
        "id": "XF7cvJdt7pol"
      },
      "execution_count": null,
      "outputs": []
    },
    {
      "cell_type": "markdown",
      "source": [
        "Q10. How can you append data to an existing file in Python?\n",
        "Ans:"
      ],
      "metadata": {
        "id": "6F86cOOK7tMt"
      }
    },
    {
      "cell_type": "code",
      "source": [
        "with open('example.txt', 'a') as file:\n",
        "    file.write(\"This line will be added to the end of the file.\\n\")\n"
      ],
      "metadata": {
        "id": "PuSecd0971Fp"
      },
      "execution_count": 11,
      "outputs": []
    },
    {
      "cell_type": "markdown",
      "source": [
        "Q11. Write a Python program that uses a try-except block to handle an error when attempting to access a dictionary key that doesn't exist."
      ],
      "metadata": {
        "id": "rsEpmD0874kU"
      }
    },
    {
      "cell_type": "code",
      "source": [
        "my_dict = {'name': 'Suraj', 'age': 28}\n",
        "\n",
        "try:\n",
        "    print(my_dict['address'])  # Key 'address' does not exist\n",
        "except KeyError:\n",
        "    print(\"Error: The key 'address' was not found in the dictionary.\")\n"
      ],
      "metadata": {
        "colab": {
          "base_uri": "https://localhost:8080/"
        },
        "id": "lTcgbFnX7_RN",
        "outputId": "65e3f906-f4d2-45e1-b947-7c120ff3e02d"
      },
      "execution_count": 12,
      "outputs": [
        {
          "output_type": "stream",
          "name": "stdout",
          "text": [
            "Error: The key 'address' was not found in the dictionary.\n"
          ]
        }
      ]
    },
    {
      "cell_type": "markdown",
      "source": [
        "Q12. Write a program that demonstrates using multiple except blocks to handle different types of exceptions."
      ],
      "metadata": {
        "id": "yd-_u2mS8YV6"
      }
    },
    {
      "cell_type": "code",
      "source": [
        "try:\n",
        "    num1 = int(input(\"Enter first number: \"))\n",
        "    num2 = int(input(\"Enter second number: \"))\n",
        "    result = num1 / num2\n",
        "    print(f\"Result: {result}\")\n",
        "except ValueError:\n",
        "    print(\"Error: Please enter valid integers.\")\n",
        "except ZeroDivisionError:\n",
        "    print(\"Error: Cannot divide by zero.\")\n",
        "except Exception as e:\n",
        "    print(f\"An unexpected error occurred: {e}\")\n"
      ],
      "metadata": {
        "colab": {
          "base_uri": "https://localhost:8080/"
        },
        "id": "QxUe9H238eX2",
        "outputId": "163d9f4d-3b0b-44c7-9976-aac2a0df27e0"
      },
      "execution_count": 13,
      "outputs": [
        {
          "output_type": "stream",
          "name": "stdout",
          "text": [
            "Enter first number: 12\n",
            "Enter second number: 34\n",
            "Result: 0.35294117647058826\n"
          ]
        }
      ]
    },
    {
      "cell_type": "markdown",
      "source": [
        "Q13. How would you check if a file exists before attempting to read it in Python?"
      ],
      "metadata": {
        "id": "otO7UybV8muN"
      }
    },
    {
      "cell_type": "code",
      "source": [
        "import os\n",
        "\n",
        "filename = 'example.txt'\n",
        "\n",
        "if os.path.exists(filename):\n",
        "    with open(filename, 'r') as file:\n",
        "        content = file.read()\n",
        "        print(content)\n",
        "else:\n",
        "    print(f\"The file '{filename}' does not exist.\")\n"
      ],
      "metadata": {
        "colab": {
          "base_uri": "https://localhost:8080/"
        },
        "id": "l4pLW1Id8rM8",
        "outputId": "0c1e8aa1-130c-49fd-891a-8e4a9de4a8ff"
      },
      "execution_count": 14,
      "outputs": [
        {
          "output_type": "stream",
          "name": "stdout",
          "text": [
            "This line will be added to the end of the file.\n",
            "\n"
          ]
        }
      ]
    },
    {
      "cell_type": "markdown",
      "source": [
        "Q14. Write a program that uses the logging module to log both informational and error messages."
      ],
      "metadata": {
        "id": "_98hvpS18xKt"
      }
    },
    {
      "cell_type": "code",
      "source": [
        "import logging\n",
        "\n",
        "# Configure logging: INFO level and above will be logged\n",
        "logging.basicConfig(filename='app.log',\n",
        "                    level=logging.INFO,\n",
        "                    format='%(asctime)s - %(levelname)s - %(message)s')\n",
        "\n",
        "def divide(a, b):\n",
        "    logging.info(f\"Attempting to divide {a} by {b}\")\n",
        "    try:\n",
        "        result = a / b\n",
        "        logging.info(f\"Division successful: {result}\")\n",
        "        return result\n",
        "    except ZeroDivisionError:\n",
        "        logging.error(\"Error: Division by zero attempted.\")\n",
        "        print(\"Cannot divide by zero.\")\n",
        "\n",
        "# Example usage\n",
        "divide(10, 2)\n",
        "divide(5, 0)\n"
      ],
      "metadata": {
        "colab": {
          "base_uri": "https://localhost:8080/"
        },
        "id": "Uv02_M5s81t2",
        "outputId": "76e086d5-2308-47d8-f2b9-5e29f0e9e3be"
      },
      "execution_count": 15,
      "outputs": [
        {
          "output_type": "stream",
          "name": "stderr",
          "text": [
            "ERROR:root:Error: Division by zero attempted.\n"
          ]
        },
        {
          "output_type": "stream",
          "name": "stdout",
          "text": [
            "Cannot divide by zero.\n"
          ]
        }
      ]
    },
    {
      "cell_type": "markdown",
      "source": [
        "Q15. Write a Python program that prints the content of a file and handles the case when the file is empty."
      ],
      "metadata": {
        "id": "Lk11Jt8r87nd"
      }
    },
    {
      "cell_type": "code",
      "source": [
        "filename = 'example.txt'\n",
        "\n",
        "try:\n",
        "    with open(filename, 'r') as file:\n",
        "        content = file.read()\n",
        "        if content:\n",
        "            print(content)\n",
        "        else:\n",
        "            print(\"The file is empty.\")\n",
        "except FileNotFoundError:\n",
        "    print(f\"Error: The file '{filename}' does not exist.\")\n"
      ],
      "metadata": {
        "colab": {
          "base_uri": "https://localhost:8080/"
        },
        "id": "GeftOhAU9Awo",
        "outputId": "83994b0b-ab91-4823-c7dd-5b495acaab7f"
      },
      "execution_count": 16,
      "outputs": [
        {
          "output_type": "stream",
          "name": "stdout",
          "text": [
            "This line will be added to the end of the file.\n",
            "\n"
          ]
        }
      ]
    },
    {
      "cell_type": "markdown",
      "source": [
        "Q16.  Demonstrate how to use memory profiling to check the memory usage of a small program."
      ],
      "metadata": {
        "id": "jJ4k9FnB9GAU"
      }
    },
    {
      "cell_type": "code",
      "source": [],
      "metadata": {
        "id": "MaXqMCdc9L3C"
      },
      "execution_count": null,
      "outputs": []
    },
    {
      "cell_type": "markdown",
      "source": [
        "Q17.  Write a Python program to create and write a list of numbers to a file, one number per line."
      ],
      "metadata": {
        "id": "TR5wLlgG9YTI"
      }
    },
    {
      "cell_type": "code",
      "source": [
        "numbers = [10, 20, 30, 40, 50]\n",
        "\n",
        "with open('numbers.txt', 'w') as file:\n",
        "    for num in numbers:\n",
        "        file.write(f\"{num}\\n\")\n",
        "\n",
        "print(\"Numbers written to numbers.txt successfully.\")\n"
      ],
      "metadata": {
        "colab": {
          "base_uri": "https://localhost:8080/"
        },
        "id": "6FhPGkkk9ggJ",
        "outputId": "6778ae3d-a8a3-4b7b-e74f-ca91028c6908"
      },
      "execution_count": 17,
      "outputs": [
        {
          "output_type": "stream",
          "name": "stdout",
          "text": [
            "Numbers written to numbers.txt successfully.\n"
          ]
        }
      ]
    },
    {
      "cell_type": "markdown",
      "source": [
        "Q18. How would you implement a basic logging setup that logs to a file with rotation after 1MB?"
      ],
      "metadata": {
        "id": "pwxbhuow9lSZ"
      }
    },
    {
      "cell_type": "code",
      "source": [
        "import logging\n",
        "from logging.handlers import RotatingFileHandler\n",
        "\n",
        "# Create a logger\n",
        "logger = logging.getLogger('my_logger')\n",
        "logger.setLevel(logging.DEBUG)  # Log all levels DEBUG and above\n",
        "\n",
        "# Create a rotating file handler (max size 1MB, keep 3 backups)\n",
        "handler = RotatingFileHandler('app.log', maxBytes=1_000_000, backupCount=3)\n",
        "handler.setLevel(logging.DEBUG)\n",
        "\n",
        "# Create a formatter and set it to the handler\n",
        "formatter = logging.Formatter('%(asctime)s - %(levelname)s - %(message)s')\n",
        "handler.setFormatter(formatter)\n",
        "\n",
        "# Add the handler to the logger\n",
        "logger.addHandler(handler)\n",
        "\n",
        "# Example log messages\n",
        "logger.info('This is an info message.')\n",
        "logger.error('This is an error message.')\n"
      ],
      "metadata": {
        "colab": {
          "base_uri": "https://localhost:8080/"
        },
        "id": "VnYM1mMY9t_r",
        "outputId": "2ced2f59-b13d-44b5-a5d3-b985e772c5f5"
      },
      "execution_count": 18,
      "outputs": [
        {
          "output_type": "stream",
          "name": "stderr",
          "text": [
            "INFO:my_logger:This is an info message.\n",
            "ERROR:my_logger:This is an error message.\n"
          ]
        }
      ]
    },
    {
      "cell_type": "markdown",
      "source": [
        "Q19. Write a program that handles both IndexError and KeyError using a try-except block."
      ],
      "metadata": {
        "id": "3Xlo6gCk94aG"
      }
    },
    {
      "cell_type": "code",
      "source": [
        "my_list = [1, 2, 3]\n",
        "my_dict = {'a': 10, 'b': 20}\n",
        "\n",
        "try:\n",
        "    # Attempt to access an invalid index\n",
        "    print(my_list[5])\n",
        "\n",
        "    # Attempt to access a non-existent key\n",
        "    print(my_dict['c'])\n",
        "except IndexError:\n",
        "    print(\"Error: List index is out of range.\")\n",
        "except KeyError:\n",
        "    print(\"Error: Key not found in dictionary.\")\n"
      ],
      "metadata": {
        "colab": {
          "base_uri": "https://localhost:8080/"
        },
        "id": "EhWE3bWo-G80",
        "outputId": "29cf7cb2-a9d0-4478-894b-46ce1e21f000"
      },
      "execution_count": 19,
      "outputs": [
        {
          "output_type": "stream",
          "name": "stdout",
          "text": [
            "Error: List index is out of range.\n"
          ]
        }
      ]
    },
    {
      "cell_type": "markdown",
      "source": [
        "Q20. How would you open a file and read its contents using a context manager in Python?"
      ],
      "metadata": {
        "id": "xhI3NjR9-NDL"
      }
    },
    {
      "cell_type": "code",
      "source": [
        "filename = 'example.txt'\n",
        "\n",
        "with open(filename, 'r') as file:\n",
        "    content = file.read()\n",
        "    print(content)\n"
      ],
      "metadata": {
        "colab": {
          "base_uri": "https://localhost:8080/"
        },
        "id": "Y69XB2AZ-RLt",
        "outputId": "047c932a-50db-4fbc-f4e8-512b119ee795"
      },
      "execution_count": 20,
      "outputs": [
        {
          "output_type": "stream",
          "name": "stdout",
          "text": [
            "This line will be added to the end of the file.\n",
            "\n"
          ]
        }
      ]
    }
  ]
}